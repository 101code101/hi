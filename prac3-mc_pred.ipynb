{
 "cells": [
  {
   "cell_type": "code",
   "execution_count": null,
   "id": "1cc8b6b6",
   "metadata": {},
   "outputs": [],
   "source": [
    "import urllib.request\n",
    "\n",
    "url = \"https://raw.githubusercontent.com/udacity/deep-reinforcement-learning/master/monte-carlo/plot_utils.py\"\n",
    "urllib.request.urlretrieve(url, \"plot_utils.py\")\n",
    "\n",
    "import gym\n",
    "import numpy as np\n",
    "import sys\n",
    "from collections import defaultdict\n",
    "from plot_utils import plot_blackjack_values\n",
    "\n",
    "env = gym.make('Blackjack-v1')\n",
    "\n",
    "def generate_episode_from_limit_stochastic(env):\n",
    "    episode = []\n",
    "    state, _ = env.reset()\n",
    "    while True:\n",
    "        probs = [0.8, 0.2] if state[0] > 18 else [0.2, 0.8]\n",
    "        action = np.random.choice(np.arange(2), p=probs)\n",
    "        next_state, reward, done, _, _ = env.step(action)\n",
    "        episode.append((state, action, reward))\n",
    "        state = next_state\n",
    "        if done:\n",
    "            break\n",
    "    return episode\n",
    "\n",
    "def mc_prediction_q(env, num_episodes, generate_episode, gamma=1.0):\n",
    "    returns_sum = defaultdict(lambda: np.zeros(env.action_space.n))\n",
    "    N = defaultdict(lambda: np.zeros(env.action_space.n))\n",
    "    Q = defaultdict(lambda: np.zeros(env.action_space.n))\n",
    "\n",
    "    for i_episode in range(1, num_episodes + 1):\n",
    "        if i_episode % 1000 == 0:\n",
    "            print(f\"\\rEpisode {i_episode}/{num_episodes}\", end=\"\")\n",
    "            sys.stdout.flush()\n",
    "\n",
    "        episode = generate_episode(env)\n",
    "        states, actions, rewards = zip(*episode)\n",
    "        G = 0\n",
    "\n",
    "        for t in reversed(range(len(episode))):\n",
    "            G = gamma * G + rewards[t]\n",
    "            if (states[t], actions[t]) not in list(zip(states[:t], actions[:t])):\n",
    "                returns_sum[states[t]][actions[t]] += G\n",
    "                N[states[t]][actions[t]] += 1\n",
    "                Q[states[t]][actions[t]] = returns_sum[states[t]][actions[t]] / N[states[t]][actions[t]]\n",
    "\n",
    "    return Q\n",
    "\n",
    "Q = mc_prediction_q(env, 500000, generate_episode_from_limit_stochastic)\n",
    "V = dict((k, (k[0] > 18) * np.dot([0.8, 0.2], v) + (k[0] <= 18) * np.dot([0.2, 0.8], v)) for k, v in Q.items())\n",
    "plot_blackjack_values(V)\n"
   ]
  },
  {
   "cell_type": "code",
   "execution_count": null,
   "id": "3e4ded67",
   "metadata": {},
   "outputs": [],
   "source": []
  }
 ],
 "metadata": {
  "kernelspec": {
   "display_name": "Python 3",
   "language": "python",
   "name": "python3"
  },
  "language_info": {
   "codemirror_mode": {
    "name": "ipython",
    "version": 3
   },
   "file_extension": ".py",
   "mimetype": "text/x-python",
   "name": "python",
   "nbconvert_exporter": "python",
   "pygments_lexer": "ipython3",
   "version": "3.12.3"
  }
 },
 "nbformat": 4,
 "nbformat_minor": 5
}
